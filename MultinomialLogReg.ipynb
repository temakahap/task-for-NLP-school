{
 "cells": [
  {
   "cell_type": "markdown",
   "metadata": {},
   "source": [
    "# Multinomial Logistic Regression from scratch\n",
    "\n",
    "In statistics, **multinomial logistic regression** is a classification method that generalizes logistic regression to multiclass problems, i.e. with more than two possible discrete outcomes where one sample could belong only to one class.\n",
    "\n",
    "\n",
    "The whole model, including the activation function can be written as:\n",
    "$$\\hat{y} = softmax(xW+b)$$\n",
    "\n",
    "This model is sometimes called multiclass logistic regression. Other common names for it include _softmax regression_ and _multinomial regression_.\n",
    "\n",
    "__What does the model actually do?__\n",
    "\n",
    "* **First:** it transforms the input vector $x$ of size `input_features_number` to the new vector $z$ of size `number_of_classes`.\n",
    "* **Second:** it applies softmax over the output vector $z$ to make its components look like probabilities.\n",
    "\n",
    "In other words, given an **input vector x**, model computes new vector $z = Wx+b$. Then softmax does two things. First, it exponentiates (elementwise) $e^z$, forcing all values to be strictly positive. Then it normalizes so that all values sum to 1. The softmax operation computes the following:\n",
    "$$softmax(z) = \\frac{e^{z}}{\\sum_{i=1}^{k} e^{z_i}}$$\n",
    "\n",
    "As a result, we get the vector $\\hat{y}$ of the same dimension as the vector **z** (and equal to the number of classes) but its components look like probability distribution over the classes we want to assign to objects.\n",
    "\n",
    "Since we have **k** classes, we’ll need weights connecting each of our inputs $x_i$ to each of our outputs $z_j$. Graphically, the network looks something like this:\n",
    "\n",
    "<img src=\"https://github.com/zackchase/mxnet-the-straight-dope/blob/master/img/simple-softmax-net.png?raw=true\">\n",
    "\n",
    "----- \n",
    "** Optional part**\n",
    "\n",
    "It is also interesting to see what happens if we have only two classes and perform softmax (the bias vector $b$ isn't shown here explicitly, but it is an additional component of $w$ and $x$).\n",
    "\n",
    "* $$P(y=1|x) = \\frac{e^{xw_1}}{e^{xw_0+xw_1-xw_1} + e^{xw_1}}$$\n",
    "\n",
    "* $$P(y=1|x) = \\frac{e^{xw_1}}{e^{xw_0-xw_1}e^{xw_1} + e^{xw_1}}$$\n",
    "\n",
    "* $$P(y=1|x) = \\frac{e^{xw_1}}{e^{xw_1}(e^{xw_0-xw_1} + 1)}$$\n",
    "\n",
    "* $$P(y=1|x) = \\frac{1}{e^{xw_0-xw_1} + 1}$$\n",
    "\n",
    "* $$P(y=1|x) = \\frac{1}{e^{x\\tilde{w}} + 1}$$\n",
    "\n",
    "And we actually get sigmoid(logistic) function used in logistic regression.\n",
    "\n",
    "----\n",
    "\n",
    "For these concepts to sink in, let’s actually implement softmax regression."
   ]
  },
  {
   "cell_type": "markdown",
   "metadata": {},
   "source": [
    "## Batch training\n",
    "\n",
    "In the above, we used plain lowercase letters for scalar variables, bold lowercase letters for **row** vectors, and uppercase letters for matrices. Assume we have $d$ inputs (number of features)  and $k$ outputs (number of classes). Let's note the shapes of the various variables explicitly as follows:\n",
    "\n",
    "$$\\underset{1 \\times k}{\\boldsymbol z} = \\underset{1 \\times d}{\\boldsymbol{x}}\\ \\underset{d \\times k}{W} + \\underset{1 \\times k}{\\boldsymbol{b}}$$\n",
    "\n",
    "We often use one-hot encoding of the output label, for example $\\hat y = 5$ would be $\\boldsymbol {\\hat y}_{one-hot} = [0, 0, 0, 0, 1, 0, 0, 0, 0, 0]$ when one-hot encoded for a 10-class classfication problem. So $\\hat{y} = \\text{softmax}(\\boldsymbol z)$ becomes\n",
    "\n",
    "$$\\underset{1 \\times k}{\\boldsymbol{\\hat{y}}_{one-hot}} = \\text{softmax}_{one-hot}(\\underset{1 \\times k}{\\boldsymbol z})$$\n",
    "\n",
    "When we input a batch of $m$ training examples, we have a matrix $\\underset{m \\times d}{X}$ that is the vertical stacking of individual training examples $\\boldsymbol x_i$, due to the choice of using row vectors.\n",
    "\n",
    "$$\n",
    "X=\n",
    "\\begin{bmatrix}\n",
    "    \\boldsymbol x_1 \\\\\n",
    "    \\boldsymbol x_2 \\\\\n",
    "    \\vdots \\\\\n",
    "    \\boldsymbol x_m\n",
    "\\end{bmatrix}\n",
    "=\n",
    "\\begin{bmatrix}\n",
    "    x_{11} & x_{12} & x_{13} & \\dots  & x_{1d} \\\\\n",
    "    x_{21} & x_{22} & x_{23} & \\dots  & x_{2d} \\\\\n",
    "    \\vdots & \\vdots & \\vdots & \\ddots & \\vdots \\\\\n",
    "    x_{m1} & x_{m2} & x_{m3} & \\dots  & x_{md}\n",
    "\\end{bmatrix}$$\n",
    "\n",
    "In this batch training situation, ${\\boldsymbol{\\hat{y}}_{one-hot}} = \\text{softmax}({\\boldsymbol z})$ turns into\n",
    "\n",
    "$$Y = \\text{softmax}(Z) = \\text{softmax}(XW + B)$$\n",
    "\n",
    "where matrix $\\underset{m \\times k}{B}$ is formed by having $m$ copies of $\\boldsymbol b$ as follows\n",
    "\n",
    "$$ B = \n",
    "\\begin{bmatrix}\n",
    "    \\boldsymbol b \\\\\n",
    "    \\boldsymbol b \\\\\n",
    "    \\vdots \\\\\n",
    "    \\boldsymbol b\n",
    "\\end{bmatrix}\n",
    "=\n",
    "\\begin{bmatrix}\n",
    "    b_{1} & b_{2} & b_{3} & \\dots  & b_{k} \\\\\n",
    "    b_{1} & b_{2} & b_{3} & \\dots  & b_{k} \\\\\n",
    "    \\vdots & \\vdots & \\vdots & \\ddots & \\vdots \\\\\n",
    "    b_{1} & b_{2} & b_{3} & \\dots  & b_{k}\n",
    "\\end{bmatrix}$$\n",
    "\n",
    "\n",
    "Each row of the matrix $\\underset{m \\times k}{Z}$ corresponds to one training example. The softmax function operates on each row of matrix $Z$ and returns a matrix $\\underset{m \\times k}Y$, each row of which corresponds to the one-hot encoded prediction of one training example."
   ]
  },
  {
   "cell_type": "code",
   "execution_count": 612,
   "metadata": {
    "collapsed": true
   },
   "outputs": [],
   "source": [
    "import numpy as np\n",
    "import pandas as pd\n",
    "import matplotlib.pyplot as plt\n",
    "%matplotlib inline"
   ]
  },
  {
   "cell_type": "markdown",
   "metadata": {},
   "source": [
    "# Step 1\n",
    "\n",
    "Here you should write the inference stage of your multinomial logistic regression.\n",
    "\n",
    "\n",
    "All implemented functions should take batches as input.\n",
    "As you remember from the previous part, the equation below works for batches with size $m$, number of features $d$ and number of classes $k$:\n",
    "\n",
    "$$\\underset{m \\times k}{Z} = \\underset{m \\times d}{X}\\ \\underset{d \\times k}{W} + \\underset{m \\times k}{B}$$\n",
    "\n",
    "But in order to simplify the following process we can get rid of parameter $B$ explicitly and just add a column of ones to the matrix $X$ and an extra row to the matrix $W$. If you perform matrix multiplication, you will actually get the same result as it was in the previous equation. So now we have:\n",
    "\n",
    "$$\\underset{m \\times k}{Z} = \\underset{m \\times {(d+1)}}{X}\\ \\underset{{(d+1)} \\times k}{W}$$\n",
    "\n",
    "$$\\underset{m \\times k}{Y} = \\text{softmax}(Z) = \\text{softmax}(XW)$$\n",
    "\n",
    "**Note:**\n",
    "\n",
    "* It is recommended to **subtract the maximum** for each sample separately before softmax.\n",
    "* This operation doesn't change the resulting distribution because $softmax(x+c) = softmax(x)$\n",
    "* It is needed for computational stability.\n",
    "    * Subtracting max(x) from x leaves a vector that has only non-positive entries, ruling out overflow and at least one element that is zero ruling out a vanishing denominator (underflow in some but not all entries is harmless).\n",
    "* Another good move is to add a very tiny _epsilon_ to the result of softmax function output, to avoid applying logarithm to zeros. "
   ]
  },
  {
   "cell_type": "code",
   "execution_count": 613,
   "metadata": {
    "collapsed": true
   },
   "outputs": [],
   "source": [
    "def softmax(Z, epsilon=1e-9):\n",
    "    \"\"\"\n",
    "        Compute softmax values for each sample of scores in Z\n",
    "        Z: np.array, shape=[m,k]\n",
    "\n",
    "        return np.array, shape=[m, k]\n",
    "    \"\"\"\n",
    "    # place your code here\n",
    "    if Z.ndim == 1:\n",
    "        Z= Z.reshape((1, -1))\n",
    "    max_z = np.max(Z, axis=1).reshape((-1, 1))\n",
    "    exp_z = np.exp(Z - max_z)\n",
    "    return exp_z / np.sum(exp_z, axis=1).reshape((-1, 1)) + epsilon"
   ]
  },
  {
   "cell_type": "code",
   "execution_count": 614,
   "metadata": {},
   "outputs": [
    {
     "data": {
      "text/plain": [
       "array([[0.33333333, 0.33333333, 0.33333333],\n",
       "       [0.09003057, 0.24472847, 0.66524096]])"
      ]
     },
     "execution_count": 614,
     "metadata": {},
     "output_type": "execute_result"
    }
   ],
   "source": [
    "e = np.array([[1,1,1],[2,3,4]])\n",
    "softmax(e)"
   ]
  },
  {
   "cell_type": "code",
   "execution_count": 615,
   "metadata": {
    "collapsed": true
   },
   "outputs": [],
   "source": [
    "def infer(W, X):\n",
    "    \"\"\"\n",
    "        Compute Y given X, W\n",
    "        X: np.array, shape=[m, d];\n",
    "        W: np.array, shape=[d+1, k];\n",
    "        Y: np.array, shape=[m, k];\n",
    "\n",
    "        * it isn't allowed to change X or W here;\n",
    "        * use np.hstack to add additional column of ones to X;\n",
    "\n",
    "        return np.array, shape=[m,k]\n",
    "    \"\"\"\n",
    "    m = X.shape[0]\n",
    "    X_bias = np.hstack( (X, np.ones((m,1))) )\n",
    "    Y = softmax(X_bias @ W)\n",
    "    return Y"
   ]
  },
  {
   "cell_type": "code",
   "execution_count": 616,
   "metadata": {
    "collapsed": true
   },
   "outputs": [],
   "source": [
    "# To test the correctness of the calculation, we generate arguments of small size\n",
    "num_features = 4\n",
    "num_classes = 3\n",
    "num_points = 5\n",
    "w, X, y = np.random.random((num_features+1, num_classes)),\\\n",
    "          np.random.random((num_points, num_features)),\\\n",
    "          (np.random.randint(0, num_classes, num_points))"
   ]
  },
  {
   "cell_type": "code",
   "execution_count": 617,
   "metadata": {},
   "outputs": [],
   "source": [
    "assert(infer(w, X).shape == (num_points, num_classes))"
   ]
  },
  {
   "cell_type": "markdown",
   "metadata": {},
   "source": [
    "# Step 2\n",
    "\n",
    "\n",
    "When we have solved the optimization problem (i.e., we've found $ W $), we decide which class the object belongs to using the rule $ y (x) = argmax(softmax(xW)) $.\n",
    "\n",
    "**MultinomialLog regression** is configured using the maximum likelihood method which is equivalent to the cross entropy minimization (see [Mount 2011](http://win-vector.com/dfiles/LogisticRegressionMaxEnt.pdf)), which leads to the following optimization problem:\n",
    "\n",
    "$$ L(W, X, Y) = -\\frac{1}{m}\\sum_{i = 0}^{m}\\sum_{j = 0}^{k} y_{ij} log (\\tilde{y_{ij}}) + \\frac{1}{2}\\eta ||W||^2 -> \\min_W$$\n",
    "$$X \\in R^{m \\times (d+1)}, W \\in R^{(d+1) \\times k}, Y \\in \\{0,1\\}^{k \\times m}$$\n",
    "\n",
    "As you remember from the previous part, $y_i$ is one-hot encoded label.\n",
    "\n",
    "Taking it into account we get the following equation:\n",
    "\n",
    "$$ L(W, X, Y) = -\\frac{1}{m}\\sum_{i = 0}^{m}log (\\widetilde{y_{i,true}}) + \\frac{1}{2} \\eta ||W||^2 -> \\min_W$$\n",
    "$$X \\in R^{m \\times (d+1)}, W \\in R^{(d+1) \\times k}, Y \\in \\{0,1\\}^{k \\times m}$$\n",
    "\n",
    "Where \n",
    "* $\\widetilde{y_{i,true}}$ is the probability of sample $i$ to belong to its true class\n",
    "* $\\eta$ - a tiny weight of $L2$ regularization\n",
    "\n",
    "In this part you need to compute the $L$ function using only matrix operations.\n",
    "\n",
    "**Note:**\n",
    "\n",
    "The logarithm used is the natural logarithm (base-e)."
   ]
  },
  {
   "cell_type": "code",
   "execution_count": 618,
   "metadata": {
    "collapsed": true
   },
   "outputs": [],
   "source": [
    "eta = 1e-2"
   ]
  },
  {
   "cell_type": "code",
   "execution_count": 619,
   "metadata": {
    "collapsed": true
   },
   "outputs": [],
   "source": [
    "def one_hot_encode(labels_list, max_number):\n",
    "    \"\"\"\n",
    "        One-hot encode input labels list;\n",
    "        \n",
    "        labels_list: np.array, shape=[m,]\n",
    "        max_number:  int, maximum class number\n",
    "\n",
    "        b: np.array, shape=[m, max_number]\n",
    "        \n",
    "        note: this function works only for sequential class labels starting with 0 e.g. 0,1,2,3..\n",
    "        but may not work correctly with non-sequential labels like: -2,5,6,7..\n",
    "    \"\"\"\n",
    "    samples_number = len(labels_list)\n",
    "    b = np.zeros((samples_number, max_number))\n",
    "    b[np.arange(samples_number), labels_list] = 1\n",
    "    return b"
   ]
  },
  {
   "cell_type": "markdown",
   "metadata": {},
   "source": [
    "Compute loss here. It is allowed to use previously implemented functions here. "
   ]
  },
  {
   "cell_type": "code",
   "execution_count": null,
   "metadata": {
    "collapsed": true
   },
   "outputs": [],
   "source": [
    "def loss(W, X, Y):\n",
    "    \"\"\"\n",
    "        Compute  L(W, X, Y)\n",
    "\n",
    "        W: np.array, shape=[d+1, k];\n",
    "        X: np.array, shape=[m, d];\n",
    "        Y: np.array, shape=[m, k];\n",
    "                one-hot encoded true labels;\n",
    "\n",
    "        return: np.float \n",
    "    \"\"\"\n",
    "\n",
    "    X_ones = np.hstack((X, np.ones((X.shape[0],1))))\n",
    "    Y_pred = softmax(X_ones @ W)\n",
    "    tmp = -1./X.shape[0] *  np.log((Y_pred * Y).sum(1) + 1e-6).sum(0)+ 1./2 * eta * np.linalg.norm(W) ** 2\n",
    "    return tmp"
   ]
  },
  {
   "cell_type": "code",
   "execution_count": 663,
   "metadata": {
    "collapsed": true
   },
   "outputs": [],
   "source": [
    "def loss(W, X, Y):\n",
    "    \"\"\"\n",
    "        Compute  L(W, X, Y)\n",
    "        \n",
    "        W: np.array, shape=[d+1, k];\n",
    "        X: np.array, shape=[m, d];\n",
    "        Y: np.array, shape=[m, k];\n",
    "                one-hot encoded true labels;\n",
    "        \n",
    "        return: np.float \n",
    "    \"\"\"\n",
    "    # place your code here"
   ]
  },
  {
   "cell_type": "code",
   "execution_count": 666,
   "metadata": {
    "collapsed": true
   },
   "outputs": [],
   "source": [
    "y_onehot = one_hot_encode(y, num_classes)"
   ]
  },
  {
   "cell_type": "code",
   "execution_count": 667,
   "metadata": {},
   "outputs": [
    {
     "ename": "ValueError",
     "evalue": "shapes (4000,785) and (5,3) not aligned: 785 (dim 1) != 5 (dim 0)",
     "output_type": "error",
     "traceback": [
      "\u001b[0;31m---------------------------------------------------------------------------\u001b[0m",
      "\u001b[0;31mValueError\u001b[0m                                Traceback (most recent call last)",
      "\u001b[0;32m<ipython-input-667-54b99b7907aa>\u001b[0m in \u001b[0;36m<module>\u001b[0;34m()\u001b[0m\n\u001b[0;32m----> 1\u001b[0;31m \u001b[0;32massert\u001b[0m\u001b[0;34m(\u001b[0m\u001b[0misinstance\u001b[0m\u001b[0;34m(\u001b[0m\u001b[0mloss\u001b[0m\u001b[0;34m(\u001b[0m\u001b[0mw\u001b[0m\u001b[0;34m,\u001b[0m \u001b[0mX\u001b[0m\u001b[0;34m,\u001b[0m \u001b[0my_onehot\u001b[0m\u001b[0;34m)\u001b[0m\u001b[0;34m,\u001b[0m \u001b[0mfloat\u001b[0m\u001b[0;34m)\u001b[0m\u001b[0;34m)\u001b[0m \u001b[0;31m# Loss is a number\u001b[0m\u001b[0;34m\u001b[0m\u001b[0m\n\u001b[0m",
      "\u001b[0;32m<ipython-input-663-ed29b654e932>\u001b[0m in \u001b[0;36mloss\u001b[0;34m(W, X, Y)\u001b[0m\n\u001b[1;32m     12\u001b[0m \u001b[0;34m\u001b[0m\u001b[0m\n\u001b[1;32m     13\u001b[0m     \u001b[0mX_ones\u001b[0m \u001b[0;34m=\u001b[0m \u001b[0mnp\u001b[0m\u001b[0;34m.\u001b[0m\u001b[0mhstack\u001b[0m\u001b[0;34m(\u001b[0m\u001b[0;34m(\u001b[0m\u001b[0mX\u001b[0m\u001b[0;34m,\u001b[0m \u001b[0mnp\u001b[0m\u001b[0;34m.\u001b[0m\u001b[0mones\u001b[0m\u001b[0;34m(\u001b[0m\u001b[0;34m(\u001b[0m\u001b[0mX\u001b[0m\u001b[0;34m.\u001b[0m\u001b[0mshape\u001b[0m\u001b[0;34m[\u001b[0m\u001b[0;36m0\u001b[0m\u001b[0;34m]\u001b[0m\u001b[0;34m,\u001b[0m\u001b[0;36m1\u001b[0m\u001b[0;34m)\u001b[0m\u001b[0;34m)\u001b[0m\u001b[0;34m)\u001b[0m\u001b[0;34m)\u001b[0m\u001b[0;34m\u001b[0m\u001b[0m\n\u001b[0;32m---> 14\u001b[0;31m     \u001b[0mY_pred\u001b[0m \u001b[0;34m=\u001b[0m \u001b[0msoftmax\u001b[0m\u001b[0;34m(\u001b[0m\u001b[0mX_ones\u001b[0m \u001b[0;34m@\u001b[0m \u001b[0mW\u001b[0m\u001b[0;34m)\u001b[0m\u001b[0;34m\u001b[0m\u001b[0m\n\u001b[0m\u001b[1;32m     15\u001b[0m     \u001b[0mtmp\u001b[0m \u001b[0;34m=\u001b[0m \u001b[0;34m-\u001b[0m\u001b[0;36m1.\u001b[0m\u001b[0;34m/\u001b[0m\u001b[0mX\u001b[0m\u001b[0;34m.\u001b[0m\u001b[0mshape\u001b[0m\u001b[0;34m[\u001b[0m\u001b[0;36m0\u001b[0m\u001b[0;34m]\u001b[0m \u001b[0;34m*\u001b[0m  \u001b[0mnp\u001b[0m\u001b[0;34m.\u001b[0m\u001b[0mlog\u001b[0m\u001b[0;34m(\u001b[0m\u001b[0;34m(\u001b[0m\u001b[0mY_pred\u001b[0m \u001b[0;34m*\u001b[0m \u001b[0mY\u001b[0m\u001b[0;34m)\u001b[0m\u001b[0;34m.\u001b[0m\u001b[0msum\u001b[0m\u001b[0;34m(\u001b[0m\u001b[0;36m1\u001b[0m\u001b[0;34m)\u001b[0m \u001b[0;34m+\u001b[0m \u001b[0;36m1e-6\u001b[0m\u001b[0;34m)\u001b[0m\u001b[0;34m.\u001b[0m\u001b[0msum\u001b[0m\u001b[0;34m(\u001b[0m\u001b[0;36m0\u001b[0m\u001b[0;34m)\u001b[0m\u001b[0;34m+\u001b[0m \u001b[0;36m1.\u001b[0m\u001b[0;34m/\u001b[0m\u001b[0;36m2\u001b[0m \u001b[0;34m*\u001b[0m \u001b[0meta\u001b[0m \u001b[0;34m*\u001b[0m \u001b[0mnp\u001b[0m\u001b[0;34m.\u001b[0m\u001b[0mlinalg\u001b[0m\u001b[0;34m.\u001b[0m\u001b[0mnorm\u001b[0m\u001b[0;34m(\u001b[0m\u001b[0mW\u001b[0m\u001b[0;34m)\u001b[0m \u001b[0;34m**\u001b[0m \u001b[0;36m2\u001b[0m\u001b[0;34m\u001b[0m\u001b[0m\n\u001b[1;32m     16\u001b[0m     \u001b[0;32mreturn\u001b[0m \u001b[0mtmp\u001b[0m\u001b[0;34m\u001b[0m\u001b[0m\n",
      "\u001b[0;31mValueError\u001b[0m: shapes (4000,785) and (5,3) not aligned: 785 (dim 1) != 5 (dim 0)"
     ]
    }
   ],
   "source": [
    "assert(isinstance(loss(w, X, y_onehot), float)) # Loss is a number"
   ]
  },
  {
   "cell_type": "markdown",
   "metadata": {},
   "source": [
    "# Step 3\n",
    "\n",
    "Now you should find the gradient of the function $ \\nabla_w L (W, X, Y_{true}) $, write it in terms of matrix operations, and implement it.\n",
    "\n",
    "**Tips:**\n",
    "\n",
    "_These tips can help you to solve the problem, but it is absolutely not necessary to follow them and you can calculate derivatives in your own way._\n",
    "\n",
    "* While calculating the gradient for $W$ it is useful to consider each of its columns separately (which are corresponding to the different k classes).\n",
    "* For the first step try to obtain the formula for $\\frac{\\partial L_i}{\\partial W_j}$, where $L_i$ is a loss for $x_i$ which is an individual element of $X$. Additionaly, $W_j$ here is the j'th column of matrix $W$ corresponding to the class $j$. You should get different derivatives for the column corresponding to the true class of $x_i$ and for columns corresponding to other classes.\n",
    "* Hint: the derivative for the column c corresponding to the wrong class of $x_i$ is $$\\frac{\\partial L_i}{\\partial W_c} = x_i softmax(x_i, w)_c$$\n",
    "   $softmax(\\cdot)_c$ means the c'th component of the resulting vector.\n",
    "* Don't forget to divide resulting gradient by the batch size ($m$) before adding the regularization part!\n"
   ]
  },
  {
   "cell_type": "code",
   "execution_count": 649,
   "metadata": {},
   "outputs": [],
   "source": [
    "def get_grad(W, X, Y):\n",
    "    \"\"\"\n",
    "        Compute  dL(W, X, Y)/dW\n",
    "        \n",
    "        W: np.array, shape=[d+1, k];\n",
    "        X: np.array, shape=[m, d];\n",
    "        Y: np.array, shape=[m, k];\n",
    "                one-hot encoded true labels;\n",
    "        \n",
    "        return: np.array, shape=[d+1, k]; \n",
    "    \n",
    "    \"\"\"\n",
    "    X = np.hstack((X, np.ones(X.shape[0]).reshape(X.shape[0],1)))\n",
    "    probs = softmax(X.dot(W))\n",
    "\n",
    "    for i in range(X.shape[0]):\n",
    "        probs[i][Y[i] > 0] -= 1\n",
    "    probs /= X.shape[0]\n",
    "    \n",
    "    dW = np.dot(X.T, probs)\n",
    "    \n",
    "    return dW + eta*W"
   ]
  },
  {
   "cell_type": "code",
   "execution_count": 650,
   "metadata": {},
   "outputs": [
    {
     "data": {
      "text/plain": [
       "array([[-0.13571892,  0.31135963, -0.15845972],\n",
       "       [ 0.01390902,  0.17914043, -0.18325975],\n",
       "       [-0.16717217,  0.24440311, -0.07127621],\n",
       "       [-0.12769129,  0.2602896 , -0.1192496 ],\n",
       "       [-0.22716173,  0.43552483, -0.20126131]])"
      ]
     },
     "execution_count": 650,
     "metadata": {},
     "output_type": "execute_result"
    }
   ],
   "source": [
    "get_grad(w, X, y_onehot)"
   ]
  },
  {
   "cell_type": "code",
   "execution_count": 651,
   "metadata": {},
   "outputs": [],
   "source": [
    "assert(get_grad(w, X, y_onehot).shape == w.shape) # The result must have the same shape as W"
   ]
  },
  {
   "cell_type": "markdown",
   "metadata": {},
   "source": [
    "# Step 4\n",
    "\n",
    "Very often mistakes are made when calculating the gradient, check the correct implementation of the gradient calculation using the function `scipy.optimize.check_grad`, the error should be ~1e-7 or less."
   ]
  },
  {
   "cell_type": "code",
   "execution_count": 652,
   "metadata": {},
   "outputs": [
    {
     "name": "stdout",
     "output_type": "stream",
     "text": [
      "error = 3.3199539610795764e-06\n"
     ]
    }
   ],
   "source": [
    "from scipy.optimize import check_grad\n",
    "\n",
    "func = lambda x: loss(x.reshape(w.shape), X, y_onehot)\n",
    "\n",
    "grad = lambda x: get_grad(x.reshape(w.shape), X, y_onehot).flatten()\n",
    "\n",
    "print('error = %s' % check_grad(func, grad, w.flatten()))"
   ]
  },
  {
   "cell_type": "markdown",
   "metadata": {},
   "source": [
    "# Step 5\n",
    "Now let's find $W$ using the `gradient descent` method and apply it to the real data (almost real).\n",
    "\n",
    "This is a **Fashion-MNIST** dataset which could be found [on the Kaggle platform](https://www.kaggle.com/zalando-research/fashionmnist/data).\n",
    "You should download only the test part of the dataset which is called `fashion-mnist_test.csv`.\n",
    "\n",
    "Each training and test example is assigned to one of the following labels:\n",
    "\n",
    "    0 T-shirt/top\n",
    "    1 Trouser\n",
    "    2 Pullover\n",
    "    3 Dress\n",
    "    4 Coat\n",
    "    5 Sandal\n",
    "    6 Shirt\n",
    "    7 Sneaker\n",
    "    8 Bag\n",
    "    9 Ankle boot \n",
    "\n",
    "* Each row is a separate image.\n",
    "* Column 1 is the class label.\n",
    "* Remaining columns are pixel numbers (784 total).\n",
    "* Each value is the darkness of the pixel (1 to 255).\n",
    "\n",
    "We will use only 4 classes of these dataset: 5 Sandal, 6 Shirt, 7 Sneaker, 8 Bag"
   ]
  },
  {
   "cell_type": "code",
   "execution_count": 653,
   "metadata": {},
   "outputs": [
    {
     "name": "stdout",
     "output_type": "stream",
     "text": [
      "(10000, 785)\n"
     ]
    },
    {
     "data": {
      "text/html": [
       "<div>\n",
       "<style>\n",
       "    .dataframe thead tr:only-child th {\n",
       "        text-align: right;\n",
       "    }\n",
       "\n",
       "    .dataframe thead th {\n",
       "        text-align: left;\n",
       "    }\n",
       "\n",
       "    .dataframe tbody tr th {\n",
       "        vertical-align: top;\n",
       "    }\n",
       "</style>\n",
       "<table border=\"1\" class=\"dataframe\">\n",
       "  <thead>\n",
       "    <tr style=\"text-align: right;\">\n",
       "      <th></th>\n",
       "      <th>label</th>\n",
       "      <th>pixel1</th>\n",
       "      <th>pixel2</th>\n",
       "      <th>pixel3</th>\n",
       "      <th>pixel4</th>\n",
       "      <th>pixel5</th>\n",
       "      <th>pixel6</th>\n",
       "      <th>pixel7</th>\n",
       "      <th>pixel8</th>\n",
       "      <th>pixel9</th>\n",
       "      <th>...</th>\n",
       "      <th>pixel775</th>\n",
       "      <th>pixel776</th>\n",
       "      <th>pixel777</th>\n",
       "      <th>pixel778</th>\n",
       "      <th>pixel779</th>\n",
       "      <th>pixel780</th>\n",
       "      <th>pixel781</th>\n",
       "      <th>pixel782</th>\n",
       "      <th>pixel783</th>\n",
       "      <th>pixel784</th>\n",
       "    </tr>\n",
       "  </thead>\n",
       "  <tbody>\n",
       "    <tr>\n",
       "      <th>0</th>\n",
       "      <td>0</td>\n",
       "      <td>0</td>\n",
       "      <td>0</td>\n",
       "      <td>0</td>\n",
       "      <td>0</td>\n",
       "      <td>0</td>\n",
       "      <td>0</td>\n",
       "      <td>0</td>\n",
       "      <td>9</td>\n",
       "      <td>8</td>\n",
       "      <td>...</td>\n",
       "      <td>103</td>\n",
       "      <td>87</td>\n",
       "      <td>56</td>\n",
       "      <td>0</td>\n",
       "      <td>0</td>\n",
       "      <td>0</td>\n",
       "      <td>0</td>\n",
       "      <td>0</td>\n",
       "      <td>0</td>\n",
       "      <td>0</td>\n",
       "    </tr>\n",
       "    <tr>\n",
       "      <th>1</th>\n",
       "      <td>1</td>\n",
       "      <td>0</td>\n",
       "      <td>0</td>\n",
       "      <td>0</td>\n",
       "      <td>0</td>\n",
       "      <td>0</td>\n",
       "      <td>0</td>\n",
       "      <td>0</td>\n",
       "      <td>0</td>\n",
       "      <td>0</td>\n",
       "      <td>...</td>\n",
       "      <td>34</td>\n",
       "      <td>0</td>\n",
       "      <td>0</td>\n",
       "      <td>0</td>\n",
       "      <td>0</td>\n",
       "      <td>0</td>\n",
       "      <td>0</td>\n",
       "      <td>0</td>\n",
       "      <td>0</td>\n",
       "      <td>0</td>\n",
       "    </tr>\n",
       "    <tr>\n",
       "      <th>2</th>\n",
       "      <td>2</td>\n",
       "      <td>0</td>\n",
       "      <td>0</td>\n",
       "      <td>0</td>\n",
       "      <td>0</td>\n",
       "      <td>0</td>\n",
       "      <td>0</td>\n",
       "      <td>14</td>\n",
       "      <td>53</td>\n",
       "      <td>99</td>\n",
       "      <td>...</td>\n",
       "      <td>0</td>\n",
       "      <td>0</td>\n",
       "      <td>0</td>\n",
       "      <td>0</td>\n",
       "      <td>63</td>\n",
       "      <td>53</td>\n",
       "      <td>31</td>\n",
       "      <td>0</td>\n",
       "      <td>0</td>\n",
       "      <td>0</td>\n",
       "    </tr>\n",
       "    <tr>\n",
       "      <th>3</th>\n",
       "      <td>2</td>\n",
       "      <td>0</td>\n",
       "      <td>0</td>\n",
       "      <td>0</td>\n",
       "      <td>0</td>\n",
       "      <td>0</td>\n",
       "      <td>0</td>\n",
       "      <td>0</td>\n",
       "      <td>0</td>\n",
       "      <td>0</td>\n",
       "      <td>...</td>\n",
       "      <td>137</td>\n",
       "      <td>126</td>\n",
       "      <td>140</td>\n",
       "      <td>0</td>\n",
       "      <td>133</td>\n",
       "      <td>224</td>\n",
       "      <td>222</td>\n",
       "      <td>56</td>\n",
       "      <td>0</td>\n",
       "      <td>0</td>\n",
       "    </tr>\n",
       "    <tr>\n",
       "      <th>4</th>\n",
       "      <td>3</td>\n",
       "      <td>0</td>\n",
       "      <td>0</td>\n",
       "      <td>0</td>\n",
       "      <td>0</td>\n",
       "      <td>0</td>\n",
       "      <td>0</td>\n",
       "      <td>0</td>\n",
       "      <td>0</td>\n",
       "      <td>0</td>\n",
       "      <td>...</td>\n",
       "      <td>0</td>\n",
       "      <td>0</td>\n",
       "      <td>0</td>\n",
       "      <td>0</td>\n",
       "      <td>0</td>\n",
       "      <td>0</td>\n",
       "      <td>0</td>\n",
       "      <td>0</td>\n",
       "      <td>0</td>\n",
       "      <td>0</td>\n",
       "    </tr>\n",
       "  </tbody>\n",
       "</table>\n",
       "<p>5 rows × 785 columns</p>\n",
       "</div>"
      ],
      "text/plain": [
       "   label  pixel1  pixel2  pixel3  pixel4  pixel5  pixel6  pixel7  pixel8  \\\n",
       "0      0       0       0       0       0       0       0       0       9   \n",
       "1      1       0       0       0       0       0       0       0       0   \n",
       "2      2       0       0       0       0       0       0      14      53   \n",
       "3      2       0       0       0       0       0       0       0       0   \n",
       "4      3       0       0       0       0       0       0       0       0   \n",
       "\n",
       "   pixel9    ...     pixel775  pixel776  pixel777  pixel778  pixel779  \\\n",
       "0       8    ...          103        87        56         0         0   \n",
       "1       0    ...           34         0         0         0         0   \n",
       "2      99    ...            0         0         0         0        63   \n",
       "3       0    ...          137       126       140         0       133   \n",
       "4       0    ...            0         0         0         0         0   \n",
       "\n",
       "   pixel780  pixel781  pixel782  pixel783  pixel784  \n",
       "0         0         0         0         0         0  \n",
       "1         0         0         0         0         0  \n",
       "2        53        31         0         0         0  \n",
       "3       224       222        56         0         0  \n",
       "4         0         0         0         0         0  \n",
       "\n",
       "[5 rows x 785 columns]"
      ]
     },
     "execution_count": 653,
     "metadata": {},
     "output_type": "execute_result"
    }
   ],
   "source": [
    "data = pd.read_csv(\"fashion-mnist_test.csv.zip\")\n",
    "print(data.shape)\n",
    "data.head()"
   ]
  },
  {
   "cell_type": "markdown",
   "metadata": {},
   "source": [
    "** Look at the images**"
   ]
  },
  {
   "cell_type": "code",
   "execution_count": 654,
   "metadata": {
    "collapsed": true
   },
   "outputs": [],
   "source": [
    "def draw_dataset(draw_mean = False):\n",
    "    f, *axes = plt.subplots(2, 5, sharey=True, figsize=(10, 4))\n",
    "    for label in range(10):\n",
    "        if draw_mean:\n",
    "            pic = data[data.label == label].iloc[:,1:].values.mean(axis=0).reshape((28,28))\n",
    "        else:\n",
    "            pic = data[data.label == label].iloc[0,1:].values.reshape((28,28))\n",
    "        axis_cur = axes[0][label//5][label%5] \n",
    "        axis_cur.imshow(pic)\n",
    "    plt.show()"
   ]
  },
  {
   "cell_type": "markdown",
   "metadata": {},
   "source": [
    "Look at the random examples of each class"
   ]
  },
  {
   "cell_type": "code",
   "execution_count": 655,
   "metadata": {},
   "outputs": [
    {
     "data": {
      "image/png": "[encoded data removed]",
      "text/plain": [
       "<matplotlib.figure.Figure at 0x7f8097bca780>"
      ]
     },
     "metadata": {},
     "output_type": "display_data"
    }
   ],
   "source": [
    "draw_dataset()"
   ]
  },
  {
   "cell_type": "markdown",
   "metadata": {},
   "source": [
    "And this is the average of each class from the full dataset "
   ]
  },
  {
   "cell_type": "code",
   "execution_count": 656,
   "metadata": {},
   "outputs": [
    {
     "data": {
      "image/png": "[encoded data removed]",
      "text/plain": [
       "<matplotlib.figure.Figure at 0x7f8095f818d0>"
      ]
     },
     "metadata": {},
     "output_type": "display_data"
    }
   ],
   "source": [
    "draw_dataset(draw_mean=True)"
   ]
  },
  {
   "cell_type": "markdown",
   "metadata": {},
   "source": [
    "Here we are excluding a subset with only 4 different labels"
   ]
  },
  {
   "cell_type": "code",
   "execution_count": 657,
   "metadata": {
    "collapsed": true
   },
   "outputs": [],
   "source": [
    "data = data[data.label.isin([5,6,7,8])]\n",
    "data.label -=5\n",
    "X, Y = np.array(data.iloc[:, 1:]), np.array(data.label)"
   ]
  },
  {
   "cell_type": "code",
   "execution_count": 658,
   "metadata": {},
   "outputs": [
    {
     "name": "stdout",
     "output_type": "stream",
     "text": [
      "number of classes:  4\n",
      "number of features:  784\n",
      "train length:  3000\n",
      "test length:  1000\n"
     ]
    }
   ],
   "source": [
    "from sklearn.metrics import roc_curve, auc\n",
    "from sklearn.metrics import roc_auc_score\n",
    "from sklearn.model_selection import train_test_split\n",
    "\n",
    "X_train, X_test, y_train, y_test = train_test_split(X, Y)\n",
    "n_classes = len(set(y_train))\n",
    "n_features = X_test.shape[1]\n",
    "\n",
    "print(\"number of classes: \", n_classes)\n",
    "print(\"number of features: \", n_features)\n",
    "print(\"train length: \", len(X_train))\n",
    "print(\"test length: \", len(X_test))"
   ]
  },
  {
   "cell_type": "markdown",
   "metadata": {},
   "source": [
    "### Perform stochastic gradient descent\n",
    "\n",
    "It would be also fine to use the gradient descent on the full dataset without any stochastic part. But here we use it just to train the model faster. \n",
    "\n",
    "In the procedure below you should write the update step in order to make the training work. Please write your code in the indicated place."
   ]
  },
  {
   "cell_type": "code",
   "execution_count": 659,
   "metadata": {
    "collapsed": true
   },
   "outputs": [],
   "source": [
    "def train(X_train, y_train, batch_size=50, num_epoch=1, n_classes=n_classes, step=1e-3, plot_loss=True):\n",
    "    \"\"\"\n",
    "        Perform gradient descent and return trained weights;\n",
    "        \n",
    "        X_train: np.array, shape=[n_samples, n_features]\n",
    "        y_train: np.array, shape=[n_samples]\n",
    "        n_classes: int\n",
    "        \n",
    "        return: w, shape=[n_features+1, n_classes]\n",
    "    \"\"\"\n",
    "\n",
    "    losses = []\n",
    "    \n",
    "    n_features = X_train.shape[1]\n",
    "    \n",
    "    # Initialize from normal distribution\n",
    "    w = np.random.randn(n_features+1, n_classes)/n_features\n",
    "    \n",
    "    # perform gradient descent\n",
    "    for epoch in range(num_epoch):\n",
    "        for iter_num, (x_batch, y_batch) in enumerate(zip(np.split(X_train, batch_size), np.split(y_train, batch_size))):\n",
    "            print (x_batch.shape)\n",
    "            print (w.shape)\n",
    "            w += -step*get_grad(w, x_batch, one_hot_encode(y_batch, n_classes))\n",
    "            losses.append(loss(w, x_batch, one_hot_encode(y_batch, n_classes)))\n",
    "    \n",
    "    # draw learning curve \n",
    "    if plot_loss:\n",
    "        plt.plot(losses)\n",
    "        plt.title(\"Loss\")\n",
    "        plt.xlabel(\"epochs\")\n",
    "        plt.show()\n",
    "        \n",
    "    return w"
   ]
  },
  {
   "cell_type": "code",
   "execution_count": 660,
   "metadata": {
    "collapsed": true
   },
   "outputs": [],
   "source": [
    "def make_prediction(X, W):\n",
    "    \"\"\"\n",
    "        Take X with shape [n_samples, n_features]\n",
    "        return: np.array of labels with shape [n_samples]\n",
    "    \"\"\"\n",
    "    probability_matrix = infer(W, X)\n",
    "    return np.array([np.argmax(t) for t in probability_matrix])"
   ]
  },
  {
   "cell_type": "code",
   "execution_count": 661,
   "metadata": {},
   "outputs": [
    {
     "name": "stdout",
     "output_type": "stream",
     "text": [
      "(60, 784)\n",
      "(785, 4)\n",
      "(60, 784)\n",
      "(785, 4)\n",
      "(60, 784)\n",
      "(785, 4)\n",
      "(60, 784)\n",
      "(785, 4)\n",
      "(60, 784)\n",
      "(785, 4)\n",
      "(60, 784)\n",
      "(785, 4)\n",
      "(60, 784)\n",
      "(785, 4)\n",
      "(60, 784)\n",
      "(785, 4)\n",
      "(60, 784)\n",
      "(785, 4)\n",
      "(60, 784)\n",
      "(785, 4)\n",
      "(60, 784)\n",
      "(785, 4)\n",
      "(60, 784)\n",
      "(785, 4)\n",
      "(60, 784)\n",
      "(785, 4)\n",
      "(60, 784)\n",
      "(785, 4)\n",
      "(60, 784)\n",
      "(785, 4)\n",
      "(60, 784)\n",
      "(785, 4)\n",
      "(60, 784)\n",
      "(785, 4)\n",
      "(60, 784)\n",
      "(785, 4)\n",
      "(60, 784)\n",
      "(785, 4)\n",
      "(60, 784)\n",
      "(785, 4)\n",
      "(60, 784)\n",
      "(785, 4)\n",
      "(60, 784)\n",
      "(785, 4)\n",
      "(60, 784)\n",
      "(785, 4)\n",
      "(60, 784)\n",
      "(785, 4)\n",
      "(60, 784)\n",
      "(785, 4)\n",
      "(60, 784)\n",
      "(785, 4)\n",
      "(60, 784)\n",
      "(785, 4)\n",
      "(60, 784)\n",
      "(785, 4)\n",
      "(60, 784)\n",
      "(785, 4)\n",
      "(60, 784)\n",
      "(785, 4)\n",
      "(60, 784)\n",
      "(785, 4)\n",
      "(60, 784)\n",
      "(785, 4)\n",
      "(60, 784)\n",
      "(785, 4)\n",
      "(60, 784)\n",
      "(785, 4)\n",
      "(60, 784)\n",
      "(785, 4)\n",
      "(60, 784)\n",
      "(785, 4)\n",
      "(60, 784)\n",
      "(785, 4)\n",
      "(60, 784)\n",
      "(785, 4)\n",
      "(60, 784)\n",
      "(785, 4)\n",
      "(60, 784)\n",
      "(785, 4)\n",
      "(60, 784)\n",
      "(785, 4)\n",
      "(60, 784)\n",
      "(785, 4)\n",
      "(60, 784)\n",
      "(785, 4)\n",
      "(60, 784)\n",
      "(785, 4)\n",
      "(60, 784)\n",
      "(785, 4)\n",
      "(60, 784)\n",
      "(785, 4)\n",
      "(60, 784)\n",
      "(785, 4)\n",
      "(60, 784)\n",
      "(785, 4)\n",
      "(60, 784)\n",
      "(785, 4)\n",
      "(60, 784)\n",
      "(785, 4)\n",
      "(60, 784)\n",
      "(785, 4)\n",
      "(60, 784)\n",
      "(785, 4)\n",
      "(60, 784)\n",
      "(785, 4)\n",
      "(60, 784)\n",
      "(785, 4)\n",
      "(60, 784)\n",
      "(785, 4)\n",
      "(60, 784)\n",
      "(785, 4)\n",
      "(60, 784)\n",
      "(785, 4)\n",
      "(60, 784)\n",
      "(785, 4)\n",
      "(60, 784)\n",
      "(785, 4)\n",
      "(60, 784)\n",
      "(785, 4)\n",
      "(60, 784)\n",
      "(785, 4)\n",
      "(60, 784)\n",
      "(785, 4)\n",
      "(60, 784)\n",
      "(785, 4)\n",
      "(60, 784)\n",
      "(785, 4)\n",
      "(60, 784)\n",
      "(785, 4)\n",
      "(60, 784)\n",
      "(785, 4)\n",
      "(60, 784)\n",
      "(785, 4)\n",
      "(60, 784)\n",
      "(785, 4)\n",
      "(60, 784)\n",
      "(785, 4)\n",
      "(60, 784)\n",
      "(785, 4)\n",
      "(60, 784)\n",
      "(785, 4)\n",
      "(60, 784)\n",
      "(785, 4)\n",
      "(60, 784)\n",
      "(785, 4)\n",
      "(60, 784)\n",
      "(785, 4)\n",
      "(60, 784)\n",
      "(785, 4)\n",
      "(60, 784)\n",
      "(785, 4)\n",
      "(60, 784)\n",
      "(785, 4)\n",
      "(60, 784)\n",
      "(785, 4)\n",
      "(60, 784)\n",
      "(785, 4)\n",
      "(60, 784)\n",
      "(785, 4)\n",
      "(60, 784)\n",
      "(785, 4)\n",
      "(60, 784)\n",
      "(785, 4)\n",
      "(60, 784)\n",
      "(785, 4)\n",
      "(60, 784)\n",
      "(785, 4)\n",
      "(60, 784)\n",
      "(785, 4)\n",
      "(60, 784)\n",
      "(785, 4)\n",
      "(60, 784)\n",
      "(785, 4)\n",
      "(60, 784)\n",
      "(785, 4)\n",
      "(60, 784)\n",
      "(785, 4)\n",
      "(60, 784)\n",
      "(785, 4)\n",
      "(60, 784)\n",
      "(785, 4)\n",
      "(60, 784)\n",
      "(785, 4)\n",
      "(60, 784)\n",
      "(785, 4)\n",
      "(60, 784)\n",
      "(785, 4)\n",
      "(60, 784)\n",
      "(785, 4)\n",
      "(60, 784)\n",
      "(785, 4)\n",
      "(60, 784)\n",
      "(785, 4)\n",
      "(60, 784)\n",
      "(785, 4)\n",
      "(60, 784)\n",
      "(785, 4)\n",
      "(60, 784)\n",
      "(785, 4)\n",
      "(60, 784)\n",
      "(785, 4)\n",
      "(60, 784)\n",
      "(785, 4)\n",
      "(60, 784)\n",
      "(785, 4)\n",
      "(60, 784)\n",
      "(785, 4)\n",
      "(60, 784)\n",
      "(785, 4)\n",
      "(60, 784)\n",
      "(785, 4)\n",
      "(60, 784)\n",
      "(785, 4)\n",
      "(60, 784)\n",
      "(785, 4)\n",
      "(60, 784)\n",
      "(785, 4)\n",
      "(60, 784)\n",
      "(785, 4)\n",
      "(60, 784)\n",
      "(785, 4)\n",
      "(60, 784)\n",
      "(785, 4)\n",
      "(60, 784)\n",
      "(785, 4)\n",
      "(60, 784)\n",
      "(785, 4)\n",
      "(60, 784)\n",
      "(785, 4)\n",
      "(60, 784)\n",
      "(785, 4)\n",
      "(60, 784)\n",
      "(785, 4)\n",
      "(60, 784)\n",
      "(785, 4)\n",
      "(60, 784)\n",
      "(785, 4)\n",
      "(60, 784)\n",
      "(785, 4)\n",
      "(60, 784)\n",
      "(785, 4)\n",
      "(60, 784)\n",
      "(785, 4)\n",
      "(60, 784)\n",
      "(785, 4)\n",
      "(60, 784)\n",
      "(785, 4)\n",
      "(60, 784)\n",
      "(785, 4)\n",
      "(60, 784)\n",
      "(785, 4)\n",
      "(60, 784)\n",
      "(785, 4)\n",
      "(60, 784)\n",
      "(785, 4)\n",
      "(60, 784)\n",
      "(785, 4)\n",
      "(60, 784)\n",
      "(785, 4)\n",
      "(60, 784)\n",
      "(785, 4)\n",
      "(60, 784)\n",
      "(785, 4)\n",
      "(60, 784)\n",
      "(785, 4)\n",
      "(60, 784)\n",
      "(785, 4)\n",
      "(60, 784)\n",
      "(785, 4)\n",
      "(60, 784)\n",
      "(785, 4)\n",
      "(60, 784)\n",
      "(785, 4)\n",
      "(60, 784)\n",
      "(785, 4)\n",
      "(60, 784)\n",
      "(785, 4)\n",
      "(60, 784)\n",
      "(785, 4)\n",
      "(60, 784)\n",
      "(785, 4)\n",
      "(60, 784)\n",
      "(785, 4)\n",
      "(60, 784)\n",
      "(785, 4)\n",
      "(60, 784)\n",
      "(785, 4)\n",
      "(60, 784)\n",
      "(785, 4)\n",
      "(60, 784)\n",
      "(785, 4)\n",
      "(60, 784)\n",
      "(785, 4)\n",
      "(60, 784)\n",
      "(785, 4)\n",
      "(60, 784)\n",
      "(785, 4)\n",
      "(60, 784)\n",
      "(785, 4)\n"
     ]
    },
    {
     "data": {
      "image/png": "[encoded data removed]",
      "text/plain": [
       "<matplotlib.figure.Figure at 0x7f809012f9b0>"
      ]
     },
     "metadata": {},
     "output_type": "display_data"
    }
   ],
   "source": [
    "W = train(X_train, y_train, num_epoch=3)"
   ]
  },
  {
   "cell_type": "markdown",
   "metadata": {},
   "source": [
    "## Evaluation of the results"
   ]
  },
  {
   "cell_type": "markdown",
   "metadata": {},
   "source": [
    "It would be nice to get the f1-score of 0.9 or higher"
   ]
  },
  {
   "cell_type": "code",
   "execution_count": 662,
   "metadata": {},
   "outputs": [
    {
     "name": "stdout",
     "output_type": "stream",
     "text": [
      "             precision    recall  f1-score   support\n",
      "\n",
      "          0       0.98      0.78      0.87       251\n",
      "          1       0.96      0.98      0.97       241\n",
      "          2       0.83      0.97      0.90       243\n",
      "          3       0.93      0.95      0.94       265\n",
      "\n",
      "avg / total       0.93      0.92      0.92      1000\n",
      "\n"
     ]
    }
   ],
   "source": [
    "from sklearn.metrics import confusion_matrix, classification_report\n",
    "\n",
    "y_pred = make_prediction(X_test, W)\n",
    "print(classification_report(y_test, y_pred))"
   ]
  },
  {
   "cell_type": "markdown",
   "metadata": {},
   "source": [
    "# Step 6\n",
    "\n",
    "Paste your code into the google form.\n",
    "\n",
    "It is nessesary to adhere to the requirements of the interface of the all functions you are to implement as your code will be tested automatically.\n",
    "\n",
    "You should not use any additional libraries besides the ones already imported. All code with __import__ instructions will be automatically discarded."
   ]
  },
  {
   "cell_type": "markdown",
   "metadata": {},
   "source": [
    "### References\n",
    "\n",
    "* Some explanations were borrowed from the [mxnet tutorial](https://gluon.mxnet.io/chapter02_supervised-learning/softmax-regression-scratch.html)\n",
    "\n",
    "* Any questions concerning the task may be sent to the e-mail: [cheskidova@phystech.edu](mailto:cheskidova@phystech.edu)"
   ]
  }
 ],
 "metadata": {
  "kernelspec": {
   "display_name": "Python 3",
   "language": "python",
   "name": "python3"
  },
  "language_info": {
   "codemirror_mode": {
    "name": "ipython",
    "version": 3
   },
   "file_extension": ".py",
   "mimetype": "text/x-python",
   "name": "python",
   "nbconvert_exporter": "python",
   "pygments_lexer": "ipython3",
   "version": "3.6.2"
  }
 },
 "nbformat": 4,
 "nbformat_minor": 2
}
